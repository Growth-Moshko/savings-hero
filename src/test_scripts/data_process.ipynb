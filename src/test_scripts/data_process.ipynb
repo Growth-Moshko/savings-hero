{
 "cells": [
  {
   "cell_type": "code",
   "execution_count": 140,
   "metadata": {
    "collapsed": true
   },
   "outputs": [],
   "source": [
    "import json"
   ]
  },
  {
   "cell_type": "code",
   "execution_count": 58,
   "metadata": {
    "collapsed": true
   },
   "outputs": [],
   "source": [
    "mcc_map = {\n",
    "    '5921': 'Package Stores – Beer, Wine, and Liquor',\n",
    "    '5541': 'Service Stations ( with or without ancillary services)',\n",
    "    '5814': 'Fast Food Restaurants',\n",
    "    '0000': 'Fast Food Restaurants',\n",
    "    '8220': 'Colleges, Junior Colleges, Universities, and Professional Schools',\n",
    "    '5411': 'Supermarkets',\n",
    "    '5912': 'Drug Stores and Pharmacies',\n",
    "    '5542': 'Automated Fuel Dispensers',\n",
    "    '7538': 'Automotive Service Shops',\n",
    "    '5300': 'Wholesale Clubs',\n",
    "    '7230': 'Barber and Beauty Shops'\n",
    "}"
   ]
  },
  {
   "cell_type": "code",
   "execution_count": 138,
   "metadata": {
    "collapsed": false
   },
   "outputs": [],
   "source": [
    "json_data=open('./creditCardData.json')\n",
    "data = json.load(json_data)"
   ]
  },
  {
   "cell_type": "code",
   "execution_count": 139,
   "metadata": {
    "collapsed": false,
    "scrolled": true
   },
   "outputs": [
    {
     "data": {
      "text/plain": [
       "[{u'AccountPrimaryIdentifier': u'00000004037670261568926',\n",
       "  u'AccountProductCode': u'CCD',\n",
       "  u'DebitCreditCode': u'D',\n",
       "  u'EffectiveDate': u'2016-09-05',\n",
       "  u'Level3DataAvailSwitch': u'false',\n",
       "  u'MaskedTransactionReferenceNumber': u'0339',\n",
       "  u'PostedAmount': u'20.87',\n",
       "  u'PostedDate': u'2016-09-08',\n",
       "  u'ShortDescription': u'PUR',\n",
       "  u'StandardIndustryCode': u'05921',\n",
       "  u'TransactionCode': u'600',\n",
       "  u'TransactionDateTime': u'2016-09-19T02:27:52.237554',\n",
       "  u'TransactionDescription': u'DESERT DISCOUNT LIQUOR WEST WENDOVER NV',\n",
       "  u'TransactionReferenceNumber': u'24493986250200306000339',\n",
       "  u'TransactionSource': u'UnBilled',\n",
       "  u'_id': u'59d92b70721ae2944407d3b8'},\n",
       " {u'AccountPrimaryIdentifier': u'00000004037670261568926',\n",
       "  u'AccountProductCode': u'CCD',\n",
       "  u'DebitCreditCode': u'D',\n",
       "  u'EffectiveDate': u'2016-09-07',\n",
       "  u'Level3DataAvailSwitch': u'false',\n",
       "  u'MaskedTransactionReferenceNumber': u'9488',\n",
       "  u'PostedAmount': u'8.54',\n",
       "  u'PostedDate': u'2016-09-08',\n",
       "  u'ShortDescription': u'PUR',\n",
       "  u'StandardIndustryCode': u'05541',\n",
       "  u'TransactionCode': u'600',\n",
       "  u'TransactionDateTime': u'2016-09-19T02:27:52.237535',\n",
       "  u'TransactionDescription': u'MAVERIK CNTRY STRE 310 MURRAY        UT',\n",
       "  u'TransactionReferenceNumber': u'24427336251720001609488',\n",
       "  u'TransactionSource': u'UnBilled',\n",
       "  u'_id': u'59d92dfd721ae2944407d583'},\n",
       " {u'AccountPrimaryIdentifier': u'00000004037670261568926',\n",
       "  u'AccountProductCode': u'CCD',\n",
       "  u'DebitCreditCode': u'D',\n",
       "  u'EffectiveDate': u'2016-09-07',\n",
       "  u'Level3DataAvailSwitch': u'false',\n",
       "  u'MaskedTransactionReferenceNumber': u'1024',\n",
       "  u'PostedAmount': u'7.86',\n",
       "  u'PostedDate': u'2016-09-08',\n",
       "  u'ShortDescription': u'PUR',\n",
       "  u'StandardIndustryCode': u'05814',\n",
       "  u'TransactionCode': u'600',\n",
       "  u'TransactionDateTime': u'2016-09-19T02:27:52.237209',\n",
       "  u'TransactionDescription': u\"MCDONALD'S F22179      SALT LAKE CIT UT\",\n",
       "  u'TransactionReferenceNumber': u'24427336251720040791024',\n",
       "  u'TransactionSource': u'UnBilled',\n",
       "  u'_id': u'59d92dfd721ae2944407d584'},\n",
       " {u'AccountPrimaryIdentifier': u'00000004037670261568926',\n",
       "  u'AccountProductCode': u'CCD',\n",
       "  u'DebitCreditCode': u'C',\n",
       "  u'EffectiveDate': u'2016-09-06',\n",
       "  u'Level3DataAvailSwitch': u'false',\n",
       "  u'PostedAmount': u'30.0',\n",
       "  u'PostedDate': u'2016-09-06',\n",
       "  u'ShortDescription': u'PMT',\n",
       "  u'StandardIndustryCode': u'00000',\n",
       "  u'TransactionCode': u'300',\n",
       "  u'TransactionDateTime': u'2016-09-14T03:17:31.649916',\n",
       "  u'TransactionDescription': u'PAYMENT   THANK YOU',\n",
       "  u'TransactionReferenceNumber': u'AUTOEOMP307400',\n",
       "  u'TransactionSource': u'UnBilled',\n",
       "  u'_id': u'59d92dfd721ae2944407d585'},\n",
       " {u'AccountPrimaryIdentifier': u'00000004037670261568926',\n",
       "  u'AccountProductCode': u'CCD',\n",
       "  u'DebitCreditCode': u'D',\n",
       "  u'EffectiveDate': u'2016-09-01',\n",
       "  u'Level3DataAvailSwitch': u'false',\n",
       "  u'MaskedTransactionReferenceNumber': u'3557',\n",
       "  u'PostedAmount': u'3528.16',\n",
       "  u'PostedDate': u'2016-09-06',\n",
       "  u'ShortDescription': u'PUR',\n",
       "  u'StandardIndustryCode': u'08220',\n",
       "  u'TransactionCode': u'600',\n",
       "  u'TransactionDateTime': u'2016-09-14T02:51:22.241844',\n",
       "  u'TransactionDescription': u'UU TUITION WEB PMT     801-581-7344  UT',\n",
       "  u'TransactionReferenceNumber': u'24492156245027916643557',\n",
       "  u'TransactionSource': u'UnBilled',\n",
       "  u'_id': u'59d92dfd721ae2944407d586'}]"
      ]
     },
     "execution_count": 139,
     "metadata": {},
     "output_type": "execute_result"
    }
   ],
   "source": [
    "# inspect post result data\n",
    "data[u'MonetaryTransactionResponseList'][:5]"
   ]
  },
  {
   "cell_type": "code",
   "execution_count": 101,
   "metadata": {
    "collapsed": false
   },
   "outputs": [],
   "source": [
    "important_data = []\n",
    "\n",
    "for transaction in data[u'MonetaryTransactionResponseList']:\n",
    "    important_data.append({\n",
    "            'date': transaction[u'TransactionDateTime'],\n",
    "            'amount': transaction[u'PostedAmount'],\n",
    "            'desc': transaction[u'TransactionDescription'] if transaction[u'TransactionDescription'] != u'PAYMENT   THANK YOU' else u'STARBUCKS SALT LAGE CIT UT',\n",
    "            'category': mcc_map[transaction[u'StandardIndustryCode'][1:]]\n",
    "        })"
   ]
  },
  {
   "cell_type": "code",
   "execution_count": 102,
   "metadata": {
    "collapsed": false
   },
   "outputs": [
    {
     "data": {
      "text/plain": [
       "[{'amount': u'20.87',\n",
       "  'category': 'Package Stores \\xe2\\x80\\x93 Beer, Wine, and Liquor',\n",
       "  'date': u'2016-09-19T02:27:52.237554',\n",
       "  'desc': u'DESERT DISCOUNT LIQUOR WEST WENDOVER NV'},\n",
       " {'amount': u'8.54',\n",
       "  'category': 'Service Stations ( with or without ancillary services)',\n",
       "  'date': u'2016-09-19T02:27:52.237535',\n",
       "  'desc': u'MAVERIK CNTRY STRE 310 MURRAY        UT'},\n",
       " {'amount': u'7.86',\n",
       "  'category': 'Fast Food Restaurants',\n",
       "  'date': u'2016-09-19T02:27:52.237209',\n",
       "  'desc': u\"MCDONALD'S F22179      SALT LAKE CIT UT\"}]"
      ]
     },
     "execution_count": 102,
     "metadata": {},
     "output_type": "execute_result"
    }
   ],
   "source": [
    "important_data[:3]"
   ]
  },
  {
   "cell_type": "code",
   "execution_count": 103,
   "metadata": {
    "collapsed": false
   },
   "outputs": [
    {
     "data": {
      "text/plain": [
       "73"
      ]
     },
     "execution_count": 103,
     "metadata": {},
     "output_type": "execute_result"
    }
   ],
   "source": [
    "len(important_data)"
   ]
  },
  {
   "cell_type": "code",
   "execution_count": 134,
   "metadata": {
    "collapsed": false
   },
   "outputs": [],
   "source": [
    "# important_data.sort(key=lambda r: r['PostedDate'])"
   ]
  },
  {
   "cell_type": "code",
   "execution_count": 136,
   "metadata": {
    "collapsed": false
   },
   "outputs": [
    {
     "data": {
      "text/plain": [
       "[{'amount': u'20.87',\n",
       "  'category': 'Package Stores \\xe2\\x80\\x93 Beer, Wine, and Liquor',\n",
       "  'date': u'2016-09-19T02:27:52.237554',\n",
       "  'desc': u'DESERT DISCOUNT LIQUOR WEST WENDOVER NV'},\n",
       " {'amount': u'8.54',\n",
       "  'category': 'Service Stations ( with or without ancillary services)',\n",
       "  'date': u'2016-09-19T02:27:52.237535',\n",
       "  'desc': u'MAVERIK CNTRY STRE 310 MURRAY        UT'},\n",
       " {'amount': u'7.86',\n",
       "  'category': 'Fast Food Restaurants',\n",
       "  'date': u'2016-09-19T02:27:52.237209',\n",
       "  'desc': u\"MCDONALD'S F22179      SALT LAKE CIT UT\"},\n",
       " {'amount': u'30.0',\n",
       "  'category': 'Fast Food Restaurants',\n",
       "  'date': u'2016-09-14T03:17:31.649916',\n",
       "  'desc': u'STARBUCKS SALT LAGE CIT UT'},\n",
       " {'amount': u'3528.16',\n",
       "  'category': 'Colleges, Junior Colleges, Universities, and Professional Schools',\n",
       "  'date': u'2016-09-14T02:51:22.241844',\n",
       "  'desc': u'UU TUITION WEB PMT     801-581-7344  UT'}]"
      ]
     },
     "execution_count": 136,
     "metadata": {},
     "output_type": "execute_result"
    }
   ],
   "source": [
    "important_data[:5]"
   ]
  },
  {
   "cell_type": "code",
   "execution_count": 142,
   "metadata": {
    "collapsed": false
   },
   "outputs": [
    {
     "data": {
      "text/plain": [
       "18"
      ]
     },
     "execution_count": 142,
     "metadata": {},
     "output_type": "execute_result"
    }
   ],
   "source": [
    "unique_dates = []\n",
    "unique_data = []\n",
    "\n",
    "for entry in important_data:\n",
    "    if entry['date'] not in unique_dates:\n",
    "        unique_dates.append(entry['date'])\n",
    "        unique_data.append(entry)\n",
    "        \n",
    "len(unique_data)"
   ]
  },
  {
   "cell_type": "code",
   "execution_count": 146,
   "metadata": {
    "collapsed": false
   },
   "outputs": [
    {
     "data": {
      "text/plain": [
       "\"\\nwith open('./claenedData.js') as write_file:\\n    write_file.write(unique_data)\\n\""
      ]
     },
     "execution_count": 146,
     "metadata": {},
     "output_type": "execute_result"
    }
   ],
   "source": [
    "# persist cleaned data\n",
    "\"\"\"\n",
    "with open('./claenedData.js') as write_file:\n",
    "    write_file.write(unique_data)\n",
    "\"\"\""
   ]
  },
  {
   "cell_type": "code",
   "execution_count": 155,
   "metadata": {
    "collapsed": false
   },
   "outputs": [],
   "source": [
    "# reload cleaned data\n",
    "json_cleaned_data=open('./cleanedData.json')\n",
    "cleaned_data = json.load(json_cleaned_data)['data']"
   ]
  },
  {
   "cell_type": "code",
   "execution_count": 156,
   "metadata": {
    "collapsed": false,
    "scrolled": true
   },
   "outputs": [],
   "source": [
    "# sort data by date\n",
    "cleaned_data.sort(key= lambda x: x['date'])"
   ]
  },
  {
   "cell_type": "code",
   "execution_count": 158,
   "metadata": {
    "collapsed": false
   },
   "outputs": [
    {
     "data": {
      "text/plain": [
       "[{u'amount': u'80.0',\n",
       "  u'category': u'Barber and Beauty Shops',\n",
       "  u'date': u'2016-09-16T08:01:26.24587',\n",
       "  u'desc': u'VN NAILS LLC          SALT LAKE CIT UT'},\n",
       " {u'amount': u'38.39',\n",
       "  u'category': u'Supermarkets',\n",
       "  u'date': u'2016-09-16T17:10:26.245823',\n",
       "  u'desc': u'7-ELEVEN 23850         MURRAY       UT'},\n",
       " {u'amount': u'11.96',\n",
       "  u'category': u'Fast Food Restaurants',\n",
       "  u'date': u'2016-09-16T19:12:26.230892',\n",
       "  u'desc': u'TACO TIME HIGHLAND    SALT LAKE CIT UT'}]"
      ]
     },
     "execution_count": 158,
     "metadata": {},
     "output_type": "execute_result"
    }
   ],
   "source": [
    "cleaned_data[:3]"
   ]
  },
  {
   "cell_type": "code",
   "execution_count": null,
   "metadata": {
    "collapsed": true
   },
   "outputs": [],
   "source": []
  }
 ],
 "metadata": {
  "kernelspec": {
   "display_name": "Python 2",
   "language": "python",
   "name": "python2"
  },
  "language_info": {
   "codemirror_mode": {
    "name": "ipython",
    "version": 2
   },
   "file_extension": ".py",
   "mimetype": "text/x-python",
   "name": "python",
   "nbconvert_exporter": "python",
   "pygments_lexer": "ipython2",
   "version": "2.7.11"
  }
 },
 "nbformat": 4,
 "nbformat_minor": 1
}
